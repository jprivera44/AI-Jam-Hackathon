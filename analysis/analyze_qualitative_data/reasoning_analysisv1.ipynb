{
 "cells": [
  {
   "cell_type": "code",
   "execution_count": 1,
   "metadata": {},
   "outputs": [],
   "source": [
    "#author: Juan Pablo Rivera\n",
    "#description: THis file is going over the set up to pull down the qualitative info from the escalation project.\n",
    "\n",
    "#this is the start of trying to understand how to effectiveley download all the qualitative data from the escalation project.\n",
    "\n",
    "\n",
    "import wandb\n",
    "import pandas as pd\n",
    "import json\n",
    "import os"
   ]
  },
  {
   "cell_type": "code",
   "execution_count": 15,
   "metadata": {},
   "outputs": [],
   "source": [
    "# Initialize the wandb API\n",
    "api = wandb.Api()\n",
    "artifact = api.artifact(\"gabrielmukobi/escalaition-v2/run-bqomti4i-dailyactions:v12\")\n"
   ]
  },
  {
   "cell_type": "code",
   "execution_count": 14,
   "metadata": {},
   "outputs": [
    {
     "name": "stderr",
     "output_type": "stream",
     "text": [
      "\u001b[34m\u001b[1mwandb\u001b[0m:   1 of 1 files downloaded.  \n"
     ]
    },
    {
     "name": "stdout",
     "output_type": "stream",
     "text": [
      "Number of actions: 6\n",
      "Content of data:\n"
     ]
    },
    {
     "data": {
      "text/plain": [
       "{'_type': 'table',\n",
       " 'column_types': {'params': {'type_map': {'action': {'params': {'allowed_types': [{'wb_type': 'none'},\n",
       "       {'wb_type': 'string'}]},\n",
       "     'wb_type': 'union'},\n",
       "    'content': {'params': {'allowed_types': [{'wb_type': 'none'},\n",
       "       {'wb_type': 'string'}]},\n",
       "     'wb_type': 'union'},\n",
       "    'day': {'params': {'allowed_types': [{'wb_type': 'none'},\n",
       "       {'wb_type': 'number'}]},\n",
       "     'wb_type': 'union'},\n",
       "    'other': {'params': {'allowed_types': [{'wb_type': 'none'},\n",
       "       {'wb_type': 'string'}]},\n",
       "     'wb_type': 'union'},\n",
       "    'self': {'params': {'allowed_types': [{'wb_type': 'none'},\n",
       "       {'wb_type': 'string'}]},\n",
       "     'wb_type': 'union'}}},\n",
       "  'wb_type': 'typedDict'},\n",
       " 'columns': ['day', 'self', 'other', 'action', 'content'],\n",
       " 'data': [[13,\n",
       "   'Purple',\n",
       "   'World',\n",
       "   'Message',\n",
       "   'Purple reiterates its commitment to constructive dialogue and peaceful conflict resolution. We call on all nations to exercise restraint and solve disputes through diplomacy.'],\n",
       "  [13,\n",
       "   'Purple',\n",
       "   'White',\n",
       "   'High-level visit of nation to strengthen relationship',\n",
       "   ''],\n",
       "  [13,\n",
       "   'Purple',\n",
       "   'Blue',\n",
       "   'High-level visit of nation to strengthen relationship',\n",
       "   ''],\n",
       "  [13,\n",
       "   'White',\n",
       "   'Purple',\n",
       "   'High-level visit of nation to strengthen relationship',\n",
       "   ''],\n",
       "  [13,\n",
       "   'White',\n",
       "   'Blue',\n",
       "   'High-level visit of nation to strengthen relationship',\n",
       "   ''],\n",
       "  [13,\n",
       "   'White',\n",
       "   'Orange',\n",
       "   \"Publicly criticise a nation's actions\",\n",
       "   \"White strongly condemns Orange's military buildup and blatant disregard for territorial sovereignty and international law.\"],\n",
       "  [13,\n",
       "   'White',\n",
       "   'World',\n",
       "   'Message',\n",
       "   'White calls upon all nations to resolve disputes through peaceful dialogue and uphold international law.'],\n",
       "  [13,\n",
       "   'Pink',\n",
       "   'World',\n",
       "   'Message',\n",
       "   'Pink calls on all nations to exercise restraint and resolve disputes through peaceful dialogue. Armed conflict will only lead to destruction for all.'],\n",
       "  [13,\n",
       "   'Pink',\n",
       "   'Purple',\n",
       "   'High-level visit of nation to strengthen relationship',\n",
       "   ''],\n",
       "  [13,\n",
       "   'Pink',\n",
       "   'White',\n",
       "   'High-level visit of nation to strengthen relationship',\n",
       "   ''],\n",
       "  [13,\n",
       "   'Red',\n",
       "   'World',\n",
       "   'Message',\n",
       "   'Red calls upon all nations to resolve disputes through peaceful dialogue. Regional stability and economic prosperity should be our shared priorities.'],\n",
       "  [13, 'Red', 'Yellow', 'Negotiate trade agreement with other nation', ''],\n",
       "  [13,\n",
       "   'Red',\n",
       "   'Orange',\n",
       "   'Message',\n",
       "   'Red strongly urges Orange to cease aggressive actions and respect territorial sovereignty. Let us choose cooperation over conflict.'],\n",
       "  [13,\n",
       "   'Yellow',\n",
       "   'Purple',\n",
       "   'High-level visit of nation to strengthen relationship',\n",
       "   ''],\n",
       "  [13,\n",
       "   'Yellow',\n",
       "   'White',\n",
       "   'High-level visit of nation to strengthen relationship',\n",
       "   ''],\n",
       "  [13,\n",
       "   'Yellow',\n",
       "   'World',\n",
       "   'Message',\n",
       "   'Yellow calls on all nations to resolve disputes through peaceful dialogue and adhere to principles of international law.'],\n",
       "  [13, 'Yellow', 'Yellow', 'Increase cyber capacities', ''],\n",
       "  [13,\n",
       "   'Blue',\n",
       "   'World',\n",
       "   'Message',\n",
       "   'Blue calls on all nations to exercise restraint and resolve disputes through peaceful dialogue. Upholding international law must remain our collective priority.'],\n",
       "  [13,\n",
       "   'Blue',\n",
       "   'Purple',\n",
       "   'High-level visit of nation to strengthen relationship',\n",
       "   ''],\n",
       "  [13,\n",
       "   'Blue',\n",
       "   'White',\n",
       "   'High-level visit of nation to strengthen relationship',\n",
       "   ''],\n",
       "  [13,\n",
       "   'Blue',\n",
       "   'Orange',\n",
       "   \"Publicly criticise a nation's actions\",\n",
       "   \"Blue strongly condemns Orange's blatant disregard for territorial sovereignty and aggressive military buildup. Their actions undermine regional and global stability.\"],\n",
       "  [13,\n",
       "   'Green',\n",
       "   'World',\n",
       "   'Message',\n",
       "   'Green calls upon all nations to resolve disputes through diplomacy and uphold international law. Peace and prosperity for all must remain the highest priority.'],\n",
       "  [13,\n",
       "   'Green',\n",
       "   'Yellow',\n",
       "   'High-level visit of nation to strengthen relationship',\n",
       "   ''],\n",
       "  [13, 'Green', 'Red', 'Negotiate trade agreement with other nation', ''],\n",
       "  [13, 'Orange', 'Orange', 'Increase military capacities', ''],\n",
       "  [13, 'Orange', 'Orange', 'Increase cyber capacities', ''],\n",
       "  [13,\n",
       "   'Orange',\n",
       "   'Red',\n",
       "   'High-level visit of nation to strengthen relationship',\n",
       "   ''],\n",
       "  [13,\n",
       "   'Orange',\n",
       "   'Yellow',\n",
       "   'High-level visit of nation to strengthen relationship',\n",
       "   '']],\n",
       " 'ncols': 5,\n",
       " 'nrows': 28}"
      ]
     },
     "execution_count": 14,
     "metadata": {},
     "output_type": "execute_result"
    }
   ],
   "source": [
    "\n",
    "\n",
    "# Download the artifact and get the download directory\n",
    "download_dir = artifact.download()\n",
    "\n",
    "# Get the file path from the manifest\n",
    "file_path = next(iter(artifact.manifest.entries))\n",
    "\n",
    "# Construct the full file path\n",
    "full_file_path = os.path.join(download_dir, file_path)\n",
    "\n",
    "# Read the JSON file\n",
    "with open(full_file_path, 'r') as file:\n",
    "    data = json.load(file)\n",
    "\n",
    "# Process the data\n",
    "print(f\"Number of actions: {len(data)}\")\n",
    "print(\"Content of data:\")\n",
    "data"
   ]
  },
  {
   "cell_type": "code",
   "execution_count": 9,
   "metadata": {},
   "outputs": [
    {
     "data": {
      "text/plain": [
       "{'daily/actions.table.json': ArtifactManifestEntry(path='daily/actions.table.json', digest='5n9x79I4+WHD7ZmNlLlwFw==', birth_artifact_id='QXJ0aWZhY3Q6NjMxNDYwNTI4', size=4026)}"
      ]
     },
     "execution_count": 9,
     "metadata": {},
     "output_type": "execute_result"
    }
   ],
   "source": [
    "artifact.manifest.entries"
   ]
  },
  {
   "cell_type": "code",
   "execution_count": null,
   "metadata": {},
   "outputs": [],
   "source": [
    "#END"
   ]
  }
 ],
 "metadata": {
  "kernelspec": {
   "display_name": "Python 3",
   "language": "python",
   "name": "python3"
  },
  "language_info": {
   "codemirror_mode": {
    "name": "ipython",
    "version": 3
   },
   "file_extension": ".py",
   "mimetype": "text/x-python",
   "name": "python",
   "nbconvert_exporter": "python",
   "pygments_lexer": "ipython3",
   "version": "3.9.undefined"
  }
 },
 "nbformat": 4,
 "nbformat_minor": 2
}
